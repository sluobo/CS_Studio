{
  "nbformat": 4,
  "nbformat_minor": 0,
  "metadata": {
    "colab": {
      "name": "Lists_of_Lists.ipynb",
      "provenance": [],
      "authorship_tag": "ABX9TyPI7G22lC14mDA/NEpJndnE",
      "include_colab_link": true
    },
    "kernelspec": {
      "name": "python3",
      "display_name": "Python 3"
    }
  },
  "cells": [
    {
      "cell_type": "markdown",
      "metadata": {
        "id": "view-in-github",
        "colab_type": "text"
      },
      "source": [
        "<a href=\"https://colab.research.google.com/github/saralieber/DC_lectures/blob/master/Lists_of_Lists.ipynb\" target=\"_parent\"><img src=\"https://colab.research.google.com/assets/colab-badge.svg\" alt=\"Open In Colab\"/></a>"
      ]
    },
    {
      "cell_type": "code",
      "metadata": {
        "id": "_lTODAY3wLC9",
        "colab_type": "code",
        "colab": {
          "base_uri": "https://localhost:8080/",
          "height": 35
        },
        "outputId": "3c8fa09e-e279-4eba-b3c8-e525debff271"
      },
      "source": [
        "# Subsetting lists of lists\n",
        "\n",
        "x = [[0,1], [2,3], [4,5]]\n",
        "\n",
        "# Indexing follows format: x[i][i]\n",
        "## The first numebr indicates which list to draw from\n",
        "## The second number indicates the position of the number in the list you chose\n",
        "\n",
        "# Example: choose the second number in the second list in x\n",
        "x[1][1] # 3"
      ],
      "execution_count": 1,
      "outputs": [
        {
          "output_type": "execute_result",
          "data": {
            "text/plain": [
              "3"
            ]
          },
          "metadata": {
            "tags": []
          },
          "execution_count": 1
        }
      ]
    },
    {
      "cell_type": "code",
      "metadata": {
        "id": "_l1I7fpfzQgF",
        "colab_type": "code",
        "colab": {
          "base_uri": "https://localhost:8080/",
          "height": 72
        },
        "outputId": "01b344d9-471c-47fd-a333-323a4d81a35e"
      },
      "source": [
        "# Changing list elements\n",
        "\n",
        "# Changing an element in a list\n",
        "## Example: Change the second number in the second list to 50\n",
        "x[1][1] = 50\n",
        "print(x)\n",
        "\n",
        "# Adding an element to a list\n",
        "## Example: Add a number, 49, to the list\n",
        "x += [[49]] # this can be either in single brackets or double brackets - double if you want it to be contained in its own list in the list of lists\n",
        "print(x)\n",
        "\n",
        "# Deleting an element from a list\n",
        "## Example: Delete the second number in the first list from x\n",
        "del(x[0][1])\n",
        "print(x)"
      ],
      "execution_count": 7,
      "outputs": [
        {
          "output_type": "stream",
          "text": [
            "[[0, 1], [2, 50], [4, 5], 49, [49]]\n",
            "[[0, 1], [2, 50], [4, 5], 49, [49], [49]]\n",
            "[[0], [2, 50], [4, 5], 49, [49], [49]]\n"
          ],
          "name": "stdout"
        }
      ]
    }
  ]
}